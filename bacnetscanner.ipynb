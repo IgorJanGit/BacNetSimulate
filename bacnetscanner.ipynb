{
 "cells": [
  {
   "cell_type": "code",
   "execution_count": null,
   "id": "035866ab",
   "metadata": {},
   "outputs": [
    {
     "ename": "ImportError",
     "evalue": "cannot import name 'models' from 'BAC0.core.devices.local' (/home/igor/.pyenv/versions/3.10.8/lib/python3.10/site-packages/BAC0/core/devices/local/__init__.py)",
     "output_type": "error",
     "traceback": [
      "\u001b[0;31m---------------------------------------------------------------------------\u001b[0m",
      "\u001b[0;31mImportError\u001b[0m                               Traceback (most recent call last)",
      "Cell \u001b[0;32mIn[1], line 6\u001b[0m\n\u001b[1;32m      4\u001b[0m \u001b[38;5;28;01mfrom\u001b[39;00m\u001b[38;5;250m \u001b[39m\u001b[38;5;21;01mbacpypes\u001b[39;00m\u001b[38;5;21;01m.\u001b[39;00m\u001b[38;5;21;01mprimitivedata\u001b[39;00m\u001b[38;5;250m \u001b[39m\u001b[38;5;28;01mimport\u001b[39;00m Real\n\u001b[1;32m      5\u001b[0m \u001b[38;5;28;01mfrom\u001b[39;00m\u001b[38;5;250m \u001b[39m\u001b[38;5;21;01mBAC0\u001b[39;00m\u001b[38;5;250m \u001b[39m\u001b[38;5;28;01mimport\u001b[39;00m connect  \u001b[38;5;66;03m# lite is deprecated, use connect\u001b[39;00m\n\u001b[0;32m----> 6\u001b[0m \u001b[38;5;28;01mfrom\u001b[39;00m\u001b[38;5;250m \u001b[39m\u001b[38;5;21;01mBAC0\u001b[39;00m\u001b[38;5;21;01m.\u001b[39;00m\u001b[38;5;21;01mcore\u001b[39;00m\u001b[38;5;21;01m.\u001b[39;00m\u001b[38;5;21;01mdevices\u001b[39;00m\u001b[38;5;21;01m.\u001b[39;00m\u001b[38;5;21;01mlocal\u001b[39;00m\u001b[38;5;250m \u001b[39m\u001b[38;5;28;01mimport\u001b[39;00m models  \u001b[38;5;66;03m# BAC0 object models\u001b[39;00m\n\u001b[1;32m      7\u001b[0m \u001b[38;5;28;01mfrom\u001b[39;00m\u001b[38;5;250m \u001b[39m\u001b[38;5;21;01mBAC0\u001b[39;00m\u001b[38;5;21;01m.\u001b[39;00m\u001b[38;5;21;01mcore\u001b[39;00m\u001b[38;5;21;01m.\u001b[39;00m\u001b[38;5;21;01mdevices\u001b[39;00m\u001b[38;5;21;01m.\u001b[39;00m\u001b[38;5;21;01mlocal\u001b[39;00m\u001b[38;5;21;01m.\u001b[39;00m\u001b[38;5;21;01mobject\u001b[39;00m\u001b[38;5;250m \u001b[39m\u001b[38;5;28;01mimport\u001b[39;00m AnalogValueObject, AnalogInputObject, BinaryOutputObject, BinaryInputObject\n\u001b[1;32m      8\u001b[0m \u001b[38;5;28;01mfrom\u001b[39;00m\u001b[38;5;250m \u001b[39m\u001b[38;5;21;01mBAC0\u001b[39;00m\u001b[38;5;21;01m.\u001b[39;00m\u001b[38;5;21;01mobjects\u001b[39;00m\u001b[38;5;250m \u001b[39m\u001b[38;5;28;01mimport\u001b[39;00m AnalogValueObject\n",
      "\u001b[0;31mImportError\u001b[0m: cannot import name 'models' from 'BAC0.core.devices.local' (/home/igor/.pyenv/versions/3.10.8/lib/python3.10/site-packages/BAC0/core/devices/local/__init__.py)"
     ]
    }
   ],
   "source": [
    "from time import sleep\n",
    "import random\n",
    "from bacpypes.object import ScheduleObject\n",
    "from bacpypes.primitivedata import Real\n",
    "from BAC0 import connect  # lite is deprecated, use connect\n",
    "from BAC0.core.devices.local.object import AnalogValueObject, AnalogInputObject, BinaryOutputObject, BinaryInputObject\n",
    "from BAC0.objects import AnalogValueObject\n",
    "\n",
    "# BAC0 object classes (use these directly, do not use 'models')"
   ]
  },
  {
   "cell_type": "code",
   "execution_count": null,
   "id": "36921dd4",
   "metadata": {},
   "outputs": [],
   "source": [
    "def defining_objects(devices):\n",
    "    ObjectFactory.clear_objects()\n",
    "    _new_objects = analog_input(\n",
    "        instance=10,\n",
    "        name=\"Frequncy\",\n",
    "        properties={\"units\": \"hertz\"},\n",
    "        description=\"Frequncy\",\n",
    "        presentValues=18.0,\n",
    "    )\n",
    "    analog_input(\n",
    "        instance=20,\n",
    "        name=\"Barometer\",\n",
    "        properties={\"units\": \"pascals\"},\n",
    "        description=\"Room Pressure\",\n",
    "        presentValues=19.0,\n",
    "    )\n",
    "    analog_input(\n",
    "        instance=10,\n",
    "        name=\"humidity\",\n",
    "        properties={\"units\": \"degreesCelsius\"},\n",
    "        description=\"Room Humidity\",\n",
    "        presentValues=21,\n",
    "        relinquish_default=21,\n",
    "    )\n",
    "    analog_input(\n",
    "        instance=20,\n",
    "        name=\"Tempature\",\n",
    "        properties={\"units\": \"degreesCelsius\"},\n",
    "        description=\"Room Temperature\",\n",
    "        presentValues=20,\n",
    "        relinquish_default=20,\n",
    "    )\n",
    "    analog_input(\n",
    "        instance=20,\n",
    "        name=\"Gas resistance\",\n",
    "        properties={\"units\": \"degreesCelsius\"},\n",
    "        description=\"Room two set points\",\n",
    "        presentValues=20.0,\n",
    "        relinquish_default=20,\n",
    "    )\n",
    "    binary_output(\n",
    "        instance=10,\n",
    "        name=\"RoomOneHeatingEnable\",\n",
    "        description=\"room one heating enable\",\n",
    "        presentValues=True,\n",
    "    )\n",
    "    binary_output(\n",
    "        instance=20,\n",
    "        name=\"RoomTwoHeatingEnable\",\n",
    "        description=\"room two heating enable\",\n",
    "        presentValues=True,\n",
    "    )\n",
    "    binary_output(\n",
    "        instance=10,\n",
    "        name=\"RoomOneRadiatorState\",\n",
    "        description=\"room one radiator on/off\",\n",
    "        presentValues=False,\n",
    "    )\n",
    "    binary_input(\n",
    "        instance=20,\n",
    "        name=\"RoomTwoHeatingEnable\",\n",
    "        description=\"room two radiator on/off\",\n",
    "        presentValues=False,\n",
    "    )\n",
    "    return _new_objects.add_objects_to_application(devices)"
   ]
  },
  {
   "cell_type": "code",
   "execution_count": null,
   "id": "5ea70f41",
   "metadata": {},
   "outputs": [],
   "source": [
    "import socket\n",
    "local_ip = socket.gethostbyname(socket.gethostname())\n",
    "device1 = connect(ip=local_ip, port=47808, deviceId=1110)\n",
    "device2 = connect(ip=local_ip, port=47808, deviceId=1111)\n",
    "\n",
    "defining_objects(device1)\n",
    "defining_objects(device2)"
   ]
  },
  {
   "cell_type": "code",
   "execution_count": null,
   "id": "1a267156",
   "metadata": {},
   "outputs": [],
   "source": [
    "while True:\n",
    "    try:\n",
    "        freq1 = device1[\"Frequncy\"]\n",
    "        temp1 = device1[\"Tempature\"]\n",
    "        if 'device2' in globals():\n",
    "            freq2 = device2[\"Frequncy\"]\n",
    "            if freq1 is not None and freq2 is not None and temp1 is not None:\n",
    "                freq1.presentValues = random.uniform(5, 100)\n",
    "                freq2.presentValues = random.uniform(5, 100)\n",
    "                print(\"Device 1 Frequency :\", freq1.presentValues)\n",
    "                print(\"Device 1 Tempature :\", temp1.presentValues)\n",
    "                print(\"\")\n",
    "            else:\n",
    "                print(\"One or more objects not found in device1/device2.\")\n",
    "        else:\n",
    "            print(\"device2 is not defined.\")\n",
    "    except KeyError as e:\n",
    "        print(f\"Object not found: {e}\")\n",
    "    sleep(2)"
   ]
  }
 ],
 "metadata": {
  "kernelspec": {
   "display_name": "3.10.8",
   "language": "python",
   "name": "python3"
  },
  "language_info": {
   "codemirror_mode": {
    "name": "ipython",
    "version": 3
   },
   "file_extension": ".py",
   "mimetype": "text/x-python",
   "name": "python",
   "nbconvert_exporter": "python",
   "pygments_lexer": "ipython3",
   "version": "3.10.8"
  }
 },
 "nbformat": 4,
 "nbformat_minor": 5
}
